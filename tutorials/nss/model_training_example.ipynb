{
 "cells": [
  {
   "cell_type": "markdown",
   "metadata": {},
   "source": [
    "SPDX-FileCopyrightText: Copyright 2025 Arm Limited and/or its affiliates <open-source-office@arm.com>\\\n",
    "SPDX-License-Identifier: Apache-2.0"
   ]
  },
  {
   "cell_type": "markdown",
   "metadata": {},
   "source": [
    "# Model Training Example\n",
    "---\n",
    "\n",
    "This notebook shows how to use the Neural Graphics Model Gym to run training, with or without finetuning, of the Neural Super Sampling model."
   ]
  },
  {
   "cell_type": "markdown",
   "metadata": {},
   "source": [
    "### Enviroment Setup\n",
    "**Before running the notebook:**\n",
    "\n",
    "Check the environment prerequisites and follow the set up instructions in the [README.md](../../README.md)"
   ]
  },
  {
   "cell_type": "code",
   "execution_count": null,
   "metadata": {},
   "outputs": [],
   "source": [
    "# Import the ng_model_gym package.\n",
    "import ng_model_gym as ngmg\n",
    "from ng_model_gym import TrainEvalMode"
   ]
  },
  {
   "cell_type": "markdown",
   "metadata": {},
   "source": [
    "### Inspect Configuration Parameters"
   ]
  },
  {
   "cell_type": "code",
   "execution_count": null,
   "metadata": {},
   "outputs": [],
   "source": [
    "from pathlib import Path\n",
    "import logging\n",
    "\n",
    "# Set training/evaluation configuration parameters using a .json file.\n",
    "# Let's use the default configuration file provided in the package.\n",
    "cfg_path = Path(\"../../assets/nss/tutorial_config.json\")\n",
    "\n",
    "# Load config object from the .json file\n",
    "config = ngmg.load_config_file(cfg_path)\n",
    "\n",
    "# Enable minimal logging for ng_model_gym.\n",
    "# For more detailed logs set log_level to logging.INFO or logging.DEBUG.\n",
    "ngmg.logging_config(config, log_level=logging.ERROR)"
   ]
  },
  {
   "cell_type": "code",
   "execution_count": null,
   "metadata": {},
   "outputs": [],
   "source": [
    "from rich import print as rprint\n",
    "\n",
    "# Let's inspect the loaded config object.\n",
    "rprint(config)"
   ]
  },
  {
   "cell_type": "markdown",
   "metadata": {},
   "source": [
    "For more information on each of the parameters in the config object, run the following command and note their *description* fields, expected type etc:"
   ]
  },
  {
   "cell_type": "code",
   "execution_count": null,
   "metadata": {},
   "outputs": [],
   "source": [
    "ngmg.print_config_options()"
   ]
  },
  {
   "cell_type": "markdown",
   "metadata": {},
   "source": [
    "The config object is mutable, so the default parameters may be overwritten as desired:"
   ]
  },
  {
   "cell_type": "code",
   "execution_count": null,
   "metadata": {},
   "outputs": [],
   "source": [
    "# Set specific train dataset\n",
    "# Note: such a small dataset is only suitable for ease of demonstration, and will not achieve high quality\n",
    "config.dataset.path.train = Path(\"../../data/nss/datasets/train\")\n",
    "\n",
    "# Overrides to allow for a smaller dataset and shorter training run\n",
    "config.dataset.recurrent_samples = 4\n",
    "config.train.batch_size = 4\n",
    "config.train.fp32.number_of_epochs = 2"
   ]
  },
  {
   "cell_type": "markdown",
   "metadata": {},
   "source": [
    "### Run Training"
   ]
  },
  {
   "cell_type": "markdown",
   "metadata": {},
   "source": [
    "We can now call the do_training function to train the model on 4 frames, as per our defined config."
   ]
  },
  {
   "cell_type": "code",
   "execution_count": null,
   "metadata": {},
   "outputs": [],
   "source": [
    "# We pass in the modified config object, and set the training mode to train in fp32.\n",
    "trained_model = ngmg.do_training(config, training_mode=TrainEvalMode.FP32)"
   ]
  },
  {
   "cell_type": "markdown",
   "metadata": {},
   "source": [
    "To run validation and visualise the output of the model, please see the [evaluation tutorial](model_evaluation_example.ipynb)."
   ]
  }
 ],
 "metadata": {
  "kernelspec": {
   "display_name": "Python 3",
   "language": "python",
   "name": "python3"
  },
  "language_info": {
   "codemirror_mode": {
    "name": "ipython",
    "version": 3
   },
   "file_extension": ".py",
   "mimetype": "text/x-python",
   "name": "python",
   "nbconvert_exporter": "python",
   "pygments_lexer": "ipython3",
   "version": "3.10.12"
  }
 },
 "nbformat": 4,
 "nbformat_minor": 4
}
