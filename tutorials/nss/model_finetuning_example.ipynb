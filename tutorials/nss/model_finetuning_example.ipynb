{
 "cells": [
  {
   "cell_type": "markdown",
   "id": "b8be61c4",
   "metadata": {},
   "source": [
    "SPDX-FileCopyrightText: Copyright 2025 Arm Limited and/or its affiliates <open-source-office@arm.com>\\\n",
    "SPDX-License-Identifier: Apache-2.0"
   ]
  },
  {
   "cell_type": "markdown",
   "id": "6845ad71",
   "metadata": {},
   "source": [
    "# Model Fine-Tuning Example\n",
    "---\n",
    "\n",
    "This notebook shows how to use the Neural Graphics Model Gym to run fine-tuning of the Neural Super Sampling model.\n",
    "\n",
    "### Prerequisites\n",
    "Familiarity with the concepts in\n",
    "- [model training tutorial](model_training_example.ipynb)\n",
    "- [model evaluation tutorial](model_evaluation_example.ipynb)"
   ]
  },
  {
   "cell_type": "markdown",
   "id": "b417bfc5",
   "metadata": {},
   "source": [
    "### Environment Setup\n",
    "**Before running the notebook:**\n",
    "\n",
    "Check the environment prerequisites and follow the set up instructions in the [README.md](../../README.md)"
   ]
  },
  {
   "cell_type": "code",
   "execution_count": null,
   "id": "d4f8eff3",
   "metadata": {},
   "outputs": [],
   "source": [
    "# Import the ng_model_gym package.\n",
    "import ng_model_gym as ngmg"
   ]
  },
  {
   "cell_type": "markdown",
   "id": "c930dc05",
   "metadata": {},
   "source": [
    "### Inspect Configuration Parameters"
   ]
  },
  {
   "cell_type": "code",
   "execution_count": null,
   "id": "4f0b1c31",
   "metadata": {},
   "outputs": [],
   "source": [
    "import logging\n",
    "from pathlib import Path\n",
    "\n",
    "# Load the fine-tuning config (some parameters are set differently)\n",
    "cfg_path = Path(\"../../assets/nss/finetune_config.json\")\n",
    "config = ngmg.load_config_file(cfg_path)\n",
    "\n",
    "# Enable minimal logging for ng_model_gym.\n",
    "# For more detailed logs set log_level to logging.INFO or logging.DEBUG.\n",
    "ngmg.logging_config(config, log_level=logging.ERROR)"
   ]
  },
  {
   "cell_type": "code",
   "execution_count": null,
   "id": "d61a7d17",
   "metadata": {},
   "outputs": [],
   "source": [
    "from rich import print as rprint\n",
    "\n",
    "# Let's inspect the loaded config object.\n",
    "rprint(config)"
   ]
  },
  {
   "cell_type": "markdown",
   "id": "571d14e1",
   "metadata": {},
   "source": [
    "### Run Fine-Tuning"
   ]
  },
  {
   "cell_type": "markdown",
   "id": "33681f3b",
   "metadata": {},
   "source": [
    "To configure fine-tuning, update the respective config parameters"
   ]
  },
  {
   "cell_type": "code",
   "execution_count": null,
   "id": "db7d7362",
   "metadata": {},
   "outputs": [],
   "source": [
    "# Indicate we will start from pretrained weights and fine-tune the model to the sequence of frames\n",
    "config.train.finetune = True\n",
    "\n",
    "# Run validation at the end of each epoch to estimate the image quality\n",
    "config.train.perform_validate = True\n",
    "\n",
    "# Path to previously trained .pt model file. For this demo, we will use the provided pretrained .pt file\n",
    "config.train.pretrained_weights = \"../../data/nss/weights/nss_v0.1.0_fp32.pt\""
   ]
  },
  {
   "cell_type": "markdown",
   "id": "a8f336f0",
   "metadata": {},
   "source": [
    "Then as before, we can execute training using the do_training function."
   ]
  },
  {
   "cell_type": "code",
   "execution_count": null,
   "id": "1695cb3c",
   "metadata": {},
   "outputs": [],
   "source": [
    "from ng_model_gym import TrainEvalMode\n",
    "\n",
    "finetuned_model, final_ckpt_path = ngmg.do_training(\n",
    "    config, training_mode=TrainEvalMode.FP32\n",
    ")"
   ]
  },
  {
   "cell_type": "markdown",
   "id": "5bb9cc2d",
   "metadata": {},
   "source": [
    "### Compare Evaluation Metrics"
   ]
  },
  {
   "cell_type": "markdown",
   "id": "a7f3ea73",
   "metadata": {},
   "source": [
    "Now that we have a model which is fine-tuned to our specific training sequence, we can compare its evaluation metrics with those of the pretrained weights to confirm that the fine-tuned model performs better on this scene."
   ]
  },
  {
   "cell_type": "markdown",
   "id": "f7233ece",
   "metadata": {},
   "source": [
    "First, get the evaluation metrics for the pretrained weights:"
   ]
  },
  {
   "cell_type": "code",
   "execution_count": null,
   "id": "9e908ce0",
   "metadata": {},
   "outputs": [],
   "source": [
    "ngmg.do_evaluate(\n",
    "    config, Path(\"../../data/nss/weights/nss_v0.1.0_fp32.pt\"), TrainEvalMode.FP32\n",
    ")"
   ]
  },
  {
   "cell_type": "markdown",
   "id": "2b850edb",
   "metadata": {},
   "source": [
    "And now compare the final checkpoint from fine-tuning with the evaluation results for the pretrained weights:"
   ]
  },
  {
   "cell_type": "code",
   "execution_count": null,
   "id": "1def8f51",
   "metadata": {},
   "outputs": [],
   "source": [
    "ngmg.do_evaluate(config, final_ckpt_path, TrainEvalMode.FP32)"
   ]
  },
  {
   "cell_type": "markdown",
   "id": "2008afa8",
   "metadata": {},
   "source": [
    "For even better results, we can increase `config.dataset.recurrent_samples` to 16 before running fine-tuning. \n",
    "\n",
    "Note: this will significantly increase the execution time of the do_training function."
   ]
  }
 ],
 "metadata": {
  "kernelspec": {
   "display_name": "nb-env",
   "language": "python",
   "name": "python3"
  },
  "language_info": {
   "codemirror_mode": {
    "name": "ipython",
    "version": 3
   },
   "file_extension": ".py",
   "mimetype": "text/x-python",
   "name": "python",
   "nbconvert_exporter": "python",
   "pygments_lexer": "ipython3",
   "version": "3.10.12"
  }
 },
 "nbformat": 4,
 "nbformat_minor": 5
}
