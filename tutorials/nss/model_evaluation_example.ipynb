{
 "cells": [
  {
   "cell_type": "markdown",
   "metadata": {},
   "source": [
    "SPDX-FileCopyrightText: Copyright 2025 Arm Limited and/or its affiliates <open-source-office@arm.com>\\\n",
    "SPDX-License-Identifier: Apache-2.0"
   ]
  },
  {
   "cell_type": "markdown",
   "metadata": {},
   "source": [
    "# Model Evaluation Example\n",
    "---\n",
    "This notebook shows how to use the Neural Graphics Model Gym to run evaluation of the Neural Super Sampling model."
   ]
  },
  {
   "cell_type": "markdown",
   "metadata": {},
   "source": [
    "### Enviroment Setup\n",
    "**Before running the notebook:**\n",
    "\n",
    "Check the environment prerequisites and follow the set up instructions in the [README.md](../../README.md)"
   ]
  },
  {
   "cell_type": "code",
   "execution_count": null,
   "metadata": {},
   "outputs": [],
   "source": [
    "# Import the ng_model_gym package.\n",
    "import ng_model_gym as ngmg\n",
    "from ng_model_gym import TrainEvalMode"
   ]
  },
  {
   "cell_type": "markdown",
   "metadata": {},
   "source": [
    "Supply the paths to the NSS .pt and the path to the dataset to run the evaluation on."
   ]
  },
  {
   "cell_type": "code",
   "execution_count": null,
   "metadata": {},
   "outputs": [],
   "source": [
    "from pathlib import Path\n",
    "import logging\n",
    "\n",
    "# Create a Config object using a path to a config file and extract parameters from it\n",
    "cfg_path = Path(\"../../assets/nss/tutorial_config.json\")\n",
    "config = ngmg.load_config_file(cfg_path)\n",
    "\n",
    "# Enable minimal logging for ng_model_gym.\n",
    "# For more detailed logs set log_level to logging.INFO or logging.DEBUG.\n",
    "ngmg.logging_config(config, log_level=logging.ERROR)\n",
    "\n",
    "config.output.export_frame_png = True\n",
    "config.dataset.path.test = Path(\"../../data/nss/datasets/test/\")\n",
    "config.dataset.recurrent_samples = 1\n",
    "\n",
    "# Evaluate the Model\n",
    "ngmg.do_evaluate(config, Path(\"../../data/nss/weights/nss_v0.1.0_fp32.pt\"), TrainEvalMode.FP32)"
   ]
  },
  {
   "cell_type": "markdown",
   "metadata": {},
   "source": [
    "### Visualisation\n",
    "\n",
    "The ground truth image and the output image from the NSS evaluaton will be displayed here. The ground truth image shows the frame fully rendered at native resolution. It represents the best case scenario."
   ]
  },
  {
   "cell_type": "code",
   "execution_count": null,
   "metadata": {},
   "outputs": [],
   "source": [
    "from IPython.display import Image\n",
    "Image(\"../../assets/nss/bistro_0099_gt.png\")"
   ]
  },
  {
   "cell_type": "markdown",
   "metadata": {},
   "source": [
    "The output image should be close to the ground truth above but the quality of the result will depend on how extensively the model has been trained."
   ]
  },
  {
   "cell_type": "code",
   "execution_count": null,
   "metadata": {},
   "outputs": [],
   "source": [
    "# Display the output frame from the NSS evaluation\n",
    "Image(\"./output/png/frame_0099_pred.png\")"
   ]
  }
 ],
 "metadata": {
  "kernelspec": {
   "display_name": "Python 3",
   "language": "python",
   "name": "python3"
  },
  "language_info": {
   "codemirror_mode": {
    "name": "ipython",
    "version": 3
   },
   "file_extension": ".py",
   "mimetype": "text/x-python",
   "name": "python",
   "nbconvert_exporter": "python",
   "pygments_lexer": "ipython3",
   "version": "3.12.3"
  }
 },
 "nbformat": 4,
 "nbformat_minor": 4
}
