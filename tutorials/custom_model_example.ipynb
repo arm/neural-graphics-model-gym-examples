{
 "cells": [
  {
   "cell_type": "markdown",
   "metadata": {},
   "source": [
    "SPDX-FileCopyrightText: Copyright 2025 Arm Limited and/or its affiliates <open-source-office@arm.com>\\\n",
    "SPDX-License-Identifier: Apache-2.0"
   ]
  },
  {
   "cell_type": "markdown",
   "metadata": {},
   "source": [
    "# Adding a Custom Model Example\n",
    "---\n",
    "\n",
    "This notebook shows how to add your own custom model to use within the Neural Graphics Model Gym."
   ]
  },
  {
   "cell_type": "markdown",
   "metadata": {},
   "source": [
    "### Environment Setup\n",
    "**Before running the notebook:**\n",
    "\n",
    "Check the environment prerequisites and follow the set up instructions in the [README.md](../README.md)"
   ]
  },
  {
   "cell_type": "code",
   "execution_count": null,
   "metadata": {},
   "outputs": [],
   "source": [
    "# Import the ng_model_gym package.\n",
    "import ng_model_gym as ngmg"
   ]
  },
  {
   "cell_type": "markdown",
   "metadata": {},
   "source": [
    "### Inspect Configuration Parameters"
   ]
  },
  {
   "cell_type": "code",
   "execution_count": null,
   "metadata": {},
   "outputs": [],
   "source": [
    "import logging\n",
    "from pathlib import Path\n",
    "\n",
    "# Set training/evaluation configuration parameters using a .json file.\n",
    "# Let's use the default configuration file provided in the package.\n",
    "cfg_path = Path(\"./assets/nss/tutorial_config.json\")\n",
    "\n",
    "# Load config object from the .json file\n",
    "config = ngmg.load_config_file(cfg_path)\n",
    "\n",
    "# Enable minimal logging for ng_model_gym.\n",
    "# For more detailed logs set log_level to logging.INFO or logging.DEBUG.\n",
    "ngmg.logging_config(config, log_level=logging.ERROR)"
   ]
  },
  {
   "cell_type": "code",
   "execution_count": null,
   "metadata": {},
   "outputs": [],
   "source": [
    "from rich import print as rprint\n",
    "\n",
    "# Let's inspect the default model configuration\n",
    "rprint(config.model)"
   ]
  },
  {
   "cell_type": "markdown",
   "metadata": {},
   "source": [
    "### Add and register a new model"
   ]
  },
  {
   "cell_type": "markdown",
   "metadata": {},
   "source": [
    "Add a new model within your project, making sure it is marked with the register_model() decorator.\n",
    "\n",
    "We have added an example model for this notebook under assets/nss/custom_model_ex.py"
   ]
  },
  {
   "cell_type": "code",
   "execution_count": null,
   "metadata": {},
   "outputs": [],
   "source": [
    "# Show the custom model code\n",
    "from IPython.display import Code, display\n",
    "\n",
    "with open(\"./assets/custom_model_ex.py\", \"r\", encoding=\"utf-8\") as model_file:\n",
    "    model_code = model_file.read()\n",
    "\n",
    "display(Code(model_code, language=\"python\"))"
   ]
  },
  {
   "cell_type": "markdown",
   "metadata": {},
   "source": [
    "Now we have a new model, we need to import the file containing it in order for the model to be registered and usable within our workflows."
   ]
  },
  {
   "cell_type": "code",
   "execution_count": null,
   "metadata": {},
   "outputs": [],
   "source": [
    "# Import the file containing the model\n",
    "from assets import custom_model_ex  # noqa: F401 pylint: disable=unused-import"
   ]
  },
  {
   "cell_type": "code",
   "execution_count": null,
   "metadata": {},
   "outputs": [],
   "source": [
    "# List the registered models\n",
    "# We can see our new model 'custom_model-v1' has been registered\n",
    "from ng_model_gym.core.model.model_registry import MODEL_REGISTRY\n",
    "\n",
    "MODEL_REGISTRY.list_registered()"
   ]
  },
  {
   "cell_type": "markdown",
   "metadata": {},
   "source": [
    "### Using the model"
   ]
  },
  {
   "cell_type": "markdown",
   "metadata": {},
   "source": [
    "#### Set the custom model in the config json"
   ]
  },
  {
   "cell_type": "markdown",
   "metadata": {},
   "source": [
    "To use this new model, we need to update our config and set the model name and optional version which were used when registering it."
   ]
  },
  {
   "cell_type": "code",
   "execution_count": null,
   "metadata": {},
   "outputs": [],
   "source": [
    "# Set the name and optional version which were used when registering\n",
    "# e.g. @register_model(name=\"custom_model\", version=\"1\")\n",
    "config.model.name = \"custom_model\"\n",
    "config.model.version = \"1\"\n",
    "\n",
    "# We can see the model configuration has been updated to our new model\n",
    "rprint(config.model)"
   ]
  },
  {
   "cell_type": "code",
   "execution_count": null,
   "metadata": {},
   "outputs": [],
   "source": [
    "# We'll override some other configs for a smaller dataset and shorter training run\n",
    "config.dataset.recurrent_samples = 4\n",
    "config.train.batch_size = 4\n",
    "config.train.fp32.number_of_epochs = 2"
   ]
  },
  {
   "cell_type": "markdown",
   "metadata": {},
   "source": [
    "We can now run any of our workflows, such as training, using the custom model we have just added."
   ]
  },
  {
   "cell_type": "code",
   "execution_count": null,
   "metadata": {},
   "outputs": [],
   "source": [
    "from ng_model_gym import TrainEvalMode\n",
    "\n",
    "# We pass in the modified config object containing our model name and version\n",
    "trained_model_path = ngmg.do_training(config, training_mode=TrainEvalMode.FP32)"
   ]
  }
 ],
 "metadata": {
  "kernelspec": {
   "display_name": "Python 3",
   "language": "python",
   "name": "python3"
  },
  "language_info": {
   "codemirror_mode": {
    "name": "ipython",
    "version": 3
   },
   "file_extension": ".py",
   "mimetype": "text/x-python",
   "name": "python",
   "nbconvert_exporter": "python",
   "pygments_lexer": "ipython3",
   "version": "3.12.3"
  }
 },
 "nbformat": 4,
 "nbformat_minor": 4
}
